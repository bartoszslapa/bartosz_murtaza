{
 "cells": [
  {
   "cell_type": "code",
   "execution_count": 2,
   "metadata": {},
   "outputs": [
    {
     "output_type": "stream",
     "name": "stdout",
     "text": [
      "learning GIT\nsuccess\n\n\"Hi\" in polish is \"Cześć\" [che-sch-ch]\n"
     ]
    }
   ],
   "source": [
    "print (\"learning GIT\")\n",
    "print ('success')\n",
    "\n",
    "print(\"\\n\\\"Hi\\\" in polish is \\\"Cześć\\\" [che-sch-ch]\")"
   ]
  }
 ],
 "metadata": {
  "kernelspec": {
   "name": "python388jvsc74a57bd09fe42acf38460646c4da03ab672fdb8622019ca95c2d3e69c12e59c985d45cdc",
   "display_name": "Python 3.8.8 64-bit ('base': conda)"
  },
  "language_info": {
   "codemirror_mode": {
    "name": "ipython",
    "version": 3
   },
   "file_extension": ".py",
   "mimetype": "text/x-python",
   "name": "python",
   "nbconvert_exporter": "python",
   "pygments_lexer": "ipython3",
   "version": "3.8.8"
  },
  "metadata": {
   "interpreter": {
    "hash": "41749615e57cf6840198f1bfffaf77b8a2581d31f48ef01f54ed8c3bfa18f608"
   }
  }
 },
 "nbformat": 4,
 "nbformat_minor": 2
}