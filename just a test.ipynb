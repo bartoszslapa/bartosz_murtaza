{
 "cells": [
  {
   "cell_type": "code",
   "execution_count": 3,
   "metadata": {},
   "outputs": [
    {
     "output_type": "stream",
     "name": "stdout",
     "text": [
      "learning GIT\nsuccess\n"
     ]
    }
   ],
   "source": [
    "print (\"learning GIT\")\n",
    "print ('success')"
   ]
  }
 ],
 "metadata": {
  "kernelspec": {
   "name": "python391jvsc74a57bd041749615e57cf6840198f1bfffaf77b8a2581d31f48ef01f54ed8c3bfa18f608",
   "display_name": "Python 3.9.1 64-bit"
  },
  "language_info": {
   "codemirror_mode": {
    "name": "ipython",
    "version": 3
   },
   "file_extension": ".py",
   "mimetype": "text/x-python",
   "name": "python",
   "nbconvert_exporter": "python",
   "pygments_lexer": "ipython3",
   "version": "3.9.1"
  },
  "metadata": {
   "interpreter": {
    "hash": "41749615e57cf6840198f1bfffaf77b8a2581d31f48ef01f54ed8c3bfa18f608"
   }
  }
 },
 "nbformat": 4,
 "nbformat_minor": 2
}